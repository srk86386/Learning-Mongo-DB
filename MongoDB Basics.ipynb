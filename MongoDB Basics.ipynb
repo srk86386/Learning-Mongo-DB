{
 "cells": [
  {
   "cell_type": "markdown",
   "metadata": {},
   "source": [
    "# MongoDb with python: Basics"
   ]
  },
  {
   "cell_type": "markdown",
   "metadata": {},
   "source": [
    "### Download and setup mongoDb in Windows with python\n",
    "    >> from the mongodb website download the executable and install the mongo db\n",
    "    >> from cmd run pip install pymongo to install the module for interacting with mongoDB with python\n",
    "### Download and setup mongoDB in Ubuntu with python\n",
    "    >> Import the MongoDB repository (sudo apt-key adv --keyserver hkp://keyserver.ubuntu.com:80 --recv 7F0CEB10)\n",
    "    >> Create a source list file for MongoDB (echo \"deb http://repo.mongodb.org/apt/ubuntu xenial/mongodb-org/3.4 multiverse\" | sudo tee /etc/apt/sources.list.d/mongodb-org-3.4.list)\n",
    "    >> sudo apt-get install -y mongodb\n",
    "    >> install pymongo module with following command \"pip install pymongo\""
   ]
  },
  {
   "cell_type": "markdown",
   "metadata": {},
   "source": [
    "### steps to intializing a connectio with mongo db\n",
    "\n",
    "#### 1. import the MongoClient from pymongo module \"from pymongo import MongoClient\"\n",
    "#### 2. create an instance of MongoClient with 2 parameter 'localhost' and the port number - \"myclient = MongoClient('localhost',27017)\"\n",
    "#### 3. Check the available database \"myclient.list_database_names()\""
   ]
  },
  {
   "cell_type": "code",
   "execution_count": 1,
   "metadata": {},
   "outputs": [
    {
     "data": {
      "text/plain": [
       "['admin', 'config', 'demo', 'local']"
      ]
     },
     "execution_count": 1,
     "metadata": {},
     "output_type": "execute_result"
    }
   ],
   "source": [
    "from pymongo import MongoClient\n",
    "myclient = MongoClient('localhost',27017)\n",
    "myclient.list_database_names()"
   ]
  },
  {
   "cell_type": "markdown",
   "metadata": {},
   "source": [
    "## 1.Let us learn, how to create a database, a table ( called collection in mongodb) and insert values within it."
   ]
  },
  {
   "cell_type": "markdown",
   "metadata": {},
   "source": [
    "#### 1. follow above 2 steps - import MongoClient from pymongo, create instance of MongoClient with localhost and port number.\n",
    "#### 2. Create an instance of your DB ( if not present already pymongo will create a new db with your provided name) - mydb = myclient['demo'] # db name\n",
    "#### 3. Create an instance of your collection (table) ( if not exist pymongo will create a table with same name.) - mycoll=mydb['dbtable'] \n",
    "#### 4. Create a list of values to be insterted in your collection (table).\n",
    "#### 5. execute the command collection.insert_many()\n",
    "#### 6. Check for the db and the table\n"
   ]
  },
  {
   "cell_type": "code",
   "execution_count": 16,
   "metadata": {},
   "outputs": [
    {
     "name": "stdout",
     "output_type": "stream",
     "text": [
      "available dbs are: ['admin', 'config', 'demo', 'local']\n",
      "avaible collections in our DB demo are ['dbtable']\n"
     ]
    }
   ],
   "source": [
    "mydb = myclient['demo'] # db name\n",
    "mycoll=mydb['dbtable'] # collection name which is same as table name for sql db\n",
    "\n",
    "\n",
    "mylist = [\n",
    "\t{'id': 1, 'name': 'Rahul Singh', 'mobile' : '8097846982'},\n",
    "\t{'id': 2, 'name': 'Pallavi Hankare', 'mobile' : '8693881508'},\n",
    "\t{'id': 3, 'name': 'Aashish Gupta', 'mobile' : '8082245459'},\n",
    "\t{'id': 4, 'name': 'Aashu Singh', 'mobile' : '87846982'},\n",
    "\t{'id': 5, 'name': 'Vivek Tivari', 'mobile' : '8097846982'},\n",
    "\t]\n",
    "# Doc string for inster_many() Insert an iterable of documents.\n",
    "x = mycoll.insert_many(mylist) # insert query for more than 1 row. for one row 'insert_one' \n",
    "\n",
    "#Insert a document(s) into this collection. -  but this methode is deprecated\n",
    "#mycoll.insert()\n",
    "#Docstring:     A Mongo collection.\n",
    "#mycoll.inster_one()\n",
    "\n",
    "#---------------checking for operation results---------#\n",
    "print(f'available dbs are: {myclient.list_database_names()}')\n",
    "\n",
    "# Docstring:Get a list of all the collection names in this database.\n",
    "print(f'avaible collections in our DB demo are {mydb.list_collection_names()}')"
   ]
  },
  {
   "cell_type": "markdown",
   "metadata": {},
   "source": [
    "### 2. learn about find_one() and find() which is equal to select statement\n",
    "#### SO, once we have created database, created table and inserted a value in table (collection) the next step is to retrive the data from collection.\n",
    "#### To do so, we need to perform 4steps \n",
    "    #### > import MongoClient from pymongo\n",
    "    #### > create an instance of Mongoclient with localhost and the port number.\n",
    "    #### > Get refference to the database and then to the collection.\n",
    "    #### > Run find_one and find() methodes on collection object."
   ]
  },
  {
   "cell_type": "code",
   "execution_count": 47,
   "metadata": {},
   "outputs": [
    {
     "name": "stdout",
     "output_type": "stream",
     "text": [
      "result of find_one methode: {'_id': ObjectId('5c9894c282769d17df2f20b2'), 'id': 2, 'name': 'Pallavi Hankare', 'mobile': '8693881508'}\n",
      "result of find() methode :\n",
      "{'_id': ObjectId('5c9894c282769d17df2f20b2'), 'id': 2, 'name': 'Pallavi Hankare', 'mobile': '8693881508'}\n",
      "{'_id': ObjectId('5c9894c282769d17df2f20b3'), 'id': 3, 'name': 'Aashish Gupta', 'mobile': '8082245459'}\n",
      "{'_id': ObjectId('5c9894c282769d17df2f20b4'), 'id': 4, 'name': 'Aashu Singh', 'mobile': '87846982'}\n",
      "{'_id': ObjectId('5c9894c282769d17df2f20b5'), 'id': 5, 'name': 'Vivek Tivari', 'mobile': 'Lost!'}\n",
      "{'_id': ObjectId('5c98984a82769d18dad0a814'), 'id': 2, 'name': 'Pallavi Hankare', 'mobile': '8693881508'}\n"
     ]
    }
   ],
   "source": [
    "#Docstring: Get a single document from the database.\n",
    "print(f'result of find_one methode: {mycoll.find_one()}')\n",
    "print('result of find() methode :')\n",
    "for d in mycoll.find():\n",
    "    #print(d)\n",
    "    pass\n",
    "\n",
    "#let us use the limit methode to get only certain number of records\n",
    "for d in mycoll.find().limit(5):\n",
    "    print(d)"
   ]
  },
  {
   "cell_type": "code",
   "execution_count": 29,
   "metadata": {},
   "outputs": [
    {
     "data": {
      "text/plain": [
       "['Rahul Singh',\n",
       " 'Pallavi Hankare',\n",
       " 'Aashish Gupta',\n",
       " 'Aashu Singh',\n",
       " 'Vivek Tivari']"
      ]
     },
     "execution_count": 29,
     "metadata": {},
     "output_type": "execute_result"
    }
   ],
   "source": [
    "mycoll.distinct('name')"
   ]
  },
  {
   "cell_type": "markdown",
   "metadata": {},
   "source": [
    "### 2.1 Let us learn little bit more about fquerying the data:\n",
    "#### find methode always takes dictionary as parameter where key will be the field name the value will be th value of field"
   ]
  },
  {
   "cell_type": "code",
   "execution_count": 37,
   "metadata": {},
   "outputs": [
    {
     "name": "stdout",
     "output_type": "stream",
     "text": [
      "{'_id': ObjectId('5c9894c282769d17df2f20b3'), 'id': 3, 'name': 'Aashish Gupta', 'mobile': '8082245459'}\n",
      "{'_id': ObjectId('5c9894c282769d17df2f20b4'), 'id': 4, 'name': 'Aashu Singh', 'mobile': '87846982'}\n",
      "{'_id': ObjectId('5c98984a82769d18dad0a815'), 'id': 3, 'name': 'Aashish Gupta', 'mobile': '8082245459'}\n",
      "{'_id': ObjectId('5c98984a82769d18dad0a816'), 'id': 4, 'name': 'Aashu Singh', 'mobile': '87846982'}\n",
      "{'_id': ObjectId('5c98999b82769d18dad0a81a'), 'id': 3, 'name': 'Aashish Gupta', 'mobile': '8082245459'}\n",
      "{'_id': ObjectId('5c98999b82769d18dad0a81b'), 'id': 4, 'name': 'Aashu Singh', 'mobile': '87846982'}\n",
      "{'_id': ObjectId('5c989ab382769d18dad0a81f'), 'id': 3, 'name': 'Aashish Gupta', 'mobile': '8082245459'}\n",
      "{'_id': ObjectId('5c989ab382769d18dad0a820'), 'id': 4, 'name': 'Aashu Singh', 'mobile': '87846982'}\n",
      "{'_id': ObjectId('5c989acc82769d18dad0a824'), 'id': 3, 'name': 'Aashish Gupta', 'mobile': '8082245459'}\n",
      "{'_id': ObjectId('5c989acc82769d18dad0a825'), 'id': 4, 'name': 'Aashu Singh', 'mobile': '87846982'}\n"
     ]
    }
   ],
   "source": [
    "#get the document or record where the mobile number is 8097846982\n",
    "docs = mycoll.find({'mobile':'8097846982'})\n",
    "for d in docs:\n",
    "    #print(d)\n",
    "    pass\n",
    "\n",
    "#query to get records where name is Vivek Tivari\n",
    "docs = mycoll.find({'name':'Vivek Tivari'})\n",
    "for d in docs:\n",
    "    #print(d)\n",
    "    pass\n",
    "\n",
    "#use regex to find records where name value starts with A\n",
    "docs = mycoll.find({'name':{'$regex':'^A'}})\n",
    "for d in docs:\n",
    "    print(d)\n",
    "    pass"
   ]
  },
  {
   "cell_type": "markdown",
   "metadata": {},
   "source": [
    "### 2.3 So we have learned on retriving the data, let us learn about sorting the data."
   ]
  },
  {
   "cell_type": "code",
   "execution_count": 40,
   "metadata": {},
   "outputs": [
    {
     "name": "stdout",
     "output_type": "stream",
     "text": [
      "{'_id': ObjectId('5c9894c282769d17df2f20b5'), 'id': 5, 'name': 'Vivek Tivari', 'mobile': '8097846982'}\n",
      "{'_id': ObjectId('5c98984a82769d18dad0a817'), 'id': 5, 'name': 'Vivek Tivari', 'mobile': '8097846982'}\n",
      "{'_id': ObjectId('5c98999b82769d18dad0a81c'), 'id': 5, 'name': 'Vivek Tivari', 'mobile': '8097846982'}\n",
      "{'_id': ObjectId('5c989ab382769d18dad0a821'), 'id': 5, 'name': 'Vivek Tivari', 'mobile': '8097846982'}\n",
      "{'_id': ObjectId('5c989acc82769d18dad0a826'), 'id': 5, 'name': 'Vivek Tivari', 'mobile': '8097846982'}\n",
      "{'_id': ObjectId('5c9894c282769d17df2f20b4'), 'id': 4, 'name': 'Aashu Singh', 'mobile': '87846982'}\n",
      "{'_id': ObjectId('5c98984a82769d18dad0a816'), 'id': 4, 'name': 'Aashu Singh', 'mobile': '87846982'}\n",
      "{'_id': ObjectId('5c98999b82769d18dad0a81b'), 'id': 4, 'name': 'Aashu Singh', 'mobile': '87846982'}\n",
      "{'_id': ObjectId('5c989ab382769d18dad0a820'), 'id': 4, 'name': 'Aashu Singh', 'mobile': '87846982'}\n",
      "{'_id': ObjectId('5c989acc82769d18dad0a825'), 'id': 4, 'name': 'Aashu Singh', 'mobile': '87846982'}\n",
      "{'_id': ObjectId('5c9894c282769d17df2f20b3'), 'id': 3, 'name': 'Aashish Gupta', 'mobile': '8082245459'}\n",
      "{'_id': ObjectId('5c98984a82769d18dad0a815'), 'id': 3, 'name': 'Aashish Gupta', 'mobile': '8082245459'}\n",
      "{'_id': ObjectId('5c98999b82769d18dad0a81a'), 'id': 3, 'name': 'Aashish Gupta', 'mobile': '8082245459'}\n",
      "{'_id': ObjectId('5c989ab382769d18dad0a81f'), 'id': 3, 'name': 'Aashish Gupta', 'mobile': '8082245459'}\n",
      "{'_id': ObjectId('5c989acc82769d18dad0a824'), 'id': 3, 'name': 'Aashish Gupta', 'mobile': '8082245459'}\n",
      "{'_id': ObjectId('5c9894c282769d17df2f20b2'), 'id': 2, 'name': 'Pallavi Hankare', 'mobile': '8693881508'}\n",
      "{'_id': ObjectId('5c98984a82769d18dad0a814'), 'id': 2, 'name': 'Pallavi Hankare', 'mobile': '8693881508'}\n",
      "{'_id': ObjectId('5c98999b82769d18dad0a819'), 'id': 2, 'name': 'Pallavi Hankare', 'mobile': '8693881508'}\n",
      "{'_id': ObjectId('5c989ab382769d18dad0a81e'), 'id': 2, 'name': 'Pallavi Hankare', 'mobile': '8693881508'}\n",
      "{'_id': ObjectId('5c989acc82769d18dad0a823'), 'id': 2, 'name': 'Pallavi Hankare', 'mobile': '8693881508'}\n",
      "{'_id': ObjectId('5c9894c282769d17df2f20b1'), 'id': 1, 'name': 'Rahul Singh', 'mobile': '8097846982'}\n",
      "{'_id': ObjectId('5c98984a82769d18dad0a813'), 'id': 1, 'name': 'Rahul Singh', 'mobile': '8097846982'}\n",
      "{'_id': ObjectId('5c98999b82769d18dad0a818'), 'id': 1, 'name': 'Rahul Singh', 'mobile': '8097846982'}\n",
      "{'_id': ObjectId('5c989ab382769d18dad0a81d'), 'id': 1, 'name': 'Rahul Singh', 'mobile': '8097846982'}\n",
      "{'_id': ObjectId('5c989acc82769d18dad0a822'), 'id': 1, 'name': 'Rahul Singh', 'mobile': '8097846982'}\n"
     ]
    },
    {
     "data": {
      "text/plain": [
       "pymongo.cursor.Cursor"
      ]
     },
     "execution_count": 40,
     "metadata": {},
     "output_type": "execute_result"
    }
   ],
   "source": [
    "docs = mycoll.find().sort('id',1) #sorting in\n",
    "for d in docs:\n",
    "    #print(d)\n",
    "    pass\n",
    "\n",
    "docs = mycoll.find().sort('id',-1) #sorting in\n",
    "for d in docs:\n",
    "    print(d)\n",
    "type(docs)"
   ]
  },
  {
   "cell_type": "markdown",
   "metadata": {},
   "source": [
    "### 3. let us learn about delete operations\n",
    "#### methods for deleting the data are delete_one() and the delete_many()"
   ]
  },
  {
   "cell_type": "code",
   "execution_count": 42,
   "metadata": {},
   "outputs": [
    {
     "name": "stdout",
     "output_type": "stream",
     "text": [
      "{'_id': ObjectId('5c9894c282769d17df2f20b2'), 'id': 2, 'name': 'Pallavi Hankare', 'mobile': '8693881508'}\n",
      "{'_id': ObjectId('5c9894c282769d17df2f20b3'), 'id': 3, 'name': 'Aashish Gupta', 'mobile': '8082245459'}\n",
      "{'_id': ObjectId('5c9894c282769d17df2f20b4'), 'id': 4, 'name': 'Aashu Singh', 'mobile': '87846982'}\n",
      "{'_id': ObjectId('5c9894c282769d17df2f20b5'), 'id': 5, 'name': 'Vivek Tivari', 'mobile': '8097846982'}\n",
      "{'_id': ObjectId('5c98984a82769d18dad0a813'), 'id': 1, 'name': 'Rahul Singh', 'mobile': '8097846982'}\n",
      "{'_id': ObjectId('5c98984a82769d18dad0a814'), 'id': 2, 'name': 'Pallavi Hankare', 'mobile': '8693881508'}\n",
      "{'_id': ObjectId('5c98984a82769d18dad0a815'), 'id': 3, 'name': 'Aashish Gupta', 'mobile': '8082245459'}\n",
      "{'_id': ObjectId('5c98984a82769d18dad0a816'), 'id': 4, 'name': 'Aashu Singh', 'mobile': '87846982'}\n",
      "{'_id': ObjectId('5c98984a82769d18dad0a817'), 'id': 5, 'name': 'Vivek Tivari', 'mobile': '8097846982'}\n",
      "{'_id': ObjectId('5c98999b82769d18dad0a818'), 'id': 1, 'name': 'Rahul Singh', 'mobile': '8097846982'}\n",
      "{'_id': ObjectId('5c98999b82769d18dad0a819'), 'id': 2, 'name': 'Pallavi Hankare', 'mobile': '8693881508'}\n",
      "{'_id': ObjectId('5c98999b82769d18dad0a81a'), 'id': 3, 'name': 'Aashish Gupta', 'mobile': '8082245459'}\n",
      "{'_id': ObjectId('5c98999b82769d18dad0a81b'), 'id': 4, 'name': 'Aashu Singh', 'mobile': '87846982'}\n",
      "{'_id': ObjectId('5c98999b82769d18dad0a81c'), 'id': 5, 'name': 'Vivek Tivari', 'mobile': '8097846982'}\n",
      "{'_id': ObjectId('5c989ab382769d18dad0a81d'), 'id': 1, 'name': 'Rahul Singh', 'mobile': '8097846982'}\n",
      "{'_id': ObjectId('5c989ab382769d18dad0a81e'), 'id': 2, 'name': 'Pallavi Hankare', 'mobile': '8693881508'}\n",
      "{'_id': ObjectId('5c989ab382769d18dad0a81f'), 'id': 3, 'name': 'Aashish Gupta', 'mobile': '8082245459'}\n",
      "{'_id': ObjectId('5c989ab382769d18dad0a820'), 'id': 4, 'name': 'Aashu Singh', 'mobile': '87846982'}\n",
      "{'_id': ObjectId('5c989ab382769d18dad0a821'), 'id': 5, 'name': 'Vivek Tivari', 'mobile': '8097846982'}\n",
      "{'_id': ObjectId('5c989acc82769d18dad0a822'), 'id': 1, 'name': 'Rahul Singh', 'mobile': '8097846982'}\n",
      "{'_id': ObjectId('5c989acc82769d18dad0a823'), 'id': 2, 'name': 'Pallavi Hankare', 'mobile': '8693881508'}\n",
      "{'_id': ObjectId('5c989acc82769d18dad0a824'), 'id': 3, 'name': 'Aashish Gupta', 'mobile': '8082245459'}\n",
      "{'_id': ObjectId('5c989acc82769d18dad0a825'), 'id': 4, 'name': 'Aashu Singh', 'mobile': '87846982'}\n",
      "{'_id': ObjectId('5c989acc82769d18dad0a826'), 'id': 5, 'name': 'Vivek Tivari', 'mobile': '8097846982'}\n"
     ]
    }
   ],
   "source": [
    "# so the delete one will delete the first record whic matches the query criteria.\n",
    "#for example the table had 5 rows with value \"Rahul Singh\", when we ran below command \n",
    "#the delete_one methode deleted the only first rown where the name was \"Rahul Singh\".\n",
    "docs = mycoll.delete_one({'name':'Rahul Singh'})\n",
    "\n",
    "for d in mycoll.find():\n",
    "    print(d)"
   ]
  },
  {
   "cell_type": "code",
   "execution_count": 43,
   "metadata": {},
   "outputs": [
    {
     "name": "stdout",
     "output_type": "stream",
     "text": [
      "{'_id': ObjectId('5c9894c282769d17df2f20b2'), 'id': 2, 'name': 'Pallavi Hankare', 'mobile': '8693881508'}\n",
      "{'_id': ObjectId('5c9894c282769d17df2f20b3'), 'id': 3, 'name': 'Aashish Gupta', 'mobile': '8082245459'}\n",
      "{'_id': ObjectId('5c9894c282769d17df2f20b4'), 'id': 4, 'name': 'Aashu Singh', 'mobile': '87846982'}\n",
      "{'_id': ObjectId('5c9894c282769d17df2f20b5'), 'id': 5, 'name': 'Vivek Tivari', 'mobile': '8097846982'}\n",
      "{'_id': ObjectId('5c98984a82769d18dad0a814'), 'id': 2, 'name': 'Pallavi Hankare', 'mobile': '8693881508'}\n",
      "{'_id': ObjectId('5c98984a82769d18dad0a815'), 'id': 3, 'name': 'Aashish Gupta', 'mobile': '8082245459'}\n",
      "{'_id': ObjectId('5c98984a82769d18dad0a816'), 'id': 4, 'name': 'Aashu Singh', 'mobile': '87846982'}\n",
      "{'_id': ObjectId('5c98984a82769d18dad0a817'), 'id': 5, 'name': 'Vivek Tivari', 'mobile': '8097846982'}\n",
      "{'_id': ObjectId('5c98999b82769d18dad0a819'), 'id': 2, 'name': 'Pallavi Hankare', 'mobile': '8693881508'}\n",
      "{'_id': ObjectId('5c98999b82769d18dad0a81a'), 'id': 3, 'name': 'Aashish Gupta', 'mobile': '8082245459'}\n",
      "{'_id': ObjectId('5c98999b82769d18dad0a81b'), 'id': 4, 'name': 'Aashu Singh', 'mobile': '87846982'}\n",
      "{'_id': ObjectId('5c98999b82769d18dad0a81c'), 'id': 5, 'name': 'Vivek Tivari', 'mobile': '8097846982'}\n",
      "{'_id': ObjectId('5c989ab382769d18dad0a81e'), 'id': 2, 'name': 'Pallavi Hankare', 'mobile': '8693881508'}\n",
      "{'_id': ObjectId('5c989ab382769d18dad0a81f'), 'id': 3, 'name': 'Aashish Gupta', 'mobile': '8082245459'}\n",
      "{'_id': ObjectId('5c989ab382769d18dad0a820'), 'id': 4, 'name': 'Aashu Singh', 'mobile': '87846982'}\n",
      "{'_id': ObjectId('5c989ab382769d18dad0a821'), 'id': 5, 'name': 'Vivek Tivari', 'mobile': '8097846982'}\n",
      "{'_id': ObjectId('5c989acc82769d18dad0a823'), 'id': 2, 'name': 'Pallavi Hankare', 'mobile': '8693881508'}\n",
      "{'_id': ObjectId('5c989acc82769d18dad0a824'), 'id': 3, 'name': 'Aashish Gupta', 'mobile': '8082245459'}\n",
      "{'_id': ObjectId('5c989acc82769d18dad0a825'), 'id': 4, 'name': 'Aashu Singh', 'mobile': '87846982'}\n",
      "{'_id': ObjectId('5c989acc82769d18dad0a826'), 'id': 5, 'name': 'Vivek Tivari', 'mobile': '8097846982'}\n"
     ]
    }
   ],
   "source": [
    "#let us illustrate the working of delete_many()\n",
    "#as expacted the delete_many methode deleted all the rows which met with query criteria.\n",
    "docs =  mycoll.delete_many({'name':'Rahul Singh'})\n",
    "for d in mycoll.find():\n",
    "    print(d)"
   ]
  },
  {
   "cell_type": "markdown",
   "metadata": {},
   "source": [
    "### 4. The last basic functionality is update methode. Let us learn on how to update the data in mongoDB\n",
    "#### again there are two methodes for updating the data in mongodb : update_one() and update_many()"
   ]
  },
  {
   "cell_type": "code",
   "execution_count": 45,
   "metadata": {},
   "outputs": [
    {
     "name": "stdout",
     "output_type": "stream",
     "text": [
      "{'_id': ObjectId('5c9894c282769d17df2f20b2'), 'id': 2, 'name': 'Pallavi Hankare', 'mobile': '8693881508'}\n",
      "{'_id': ObjectId('5c9894c282769d17df2f20b3'), 'id': 3, 'name': 'Aashish Gupta', 'mobile': '8082245459'}\n",
      "{'_id': ObjectId('5c9894c282769d17df2f20b4'), 'id': 4, 'name': 'Aashu Singh', 'mobile': '87846982'}\n",
      "{'_id': ObjectId('5c9894c282769d17df2f20b5'), 'id': 5, 'name': 'Vivek Tivari', 'mobile': 'Lost!'}\n",
      "{'_id': ObjectId('5c98984a82769d18dad0a814'), 'id': 2, 'name': 'Pallavi Hankare', 'mobile': '8693881508'}\n",
      "{'_id': ObjectId('5c98984a82769d18dad0a815'), 'id': 3, 'name': 'Aashish Gupta', 'mobile': '8082245459'}\n",
      "{'_id': ObjectId('5c98984a82769d18dad0a816'), 'id': 4, 'name': 'Aashu Singh', 'mobile': '87846982'}\n",
      "{'_id': ObjectId('5c98984a82769d18dad0a817'), 'id': 5, 'name': 'Vivek Tivari', 'mobile': '8097846982'}\n",
      "{'_id': ObjectId('5c98999b82769d18dad0a819'), 'id': 2, 'name': 'Pallavi Hankare', 'mobile': '8693881508'}\n",
      "{'_id': ObjectId('5c98999b82769d18dad0a81a'), 'id': 3, 'name': 'Aashish Gupta', 'mobile': '8082245459'}\n",
      "{'_id': ObjectId('5c98999b82769d18dad0a81b'), 'id': 4, 'name': 'Aashu Singh', 'mobile': '87846982'}\n",
      "{'_id': ObjectId('5c98999b82769d18dad0a81c'), 'id': 5, 'name': 'Vivek Tivari', 'mobile': '8097846982'}\n",
      "{'_id': ObjectId('5c989ab382769d18dad0a81e'), 'id': 2, 'name': 'Pallavi Hankare', 'mobile': '8693881508'}\n",
      "{'_id': ObjectId('5c989ab382769d18dad0a81f'), 'id': 3, 'name': 'Aashish Gupta', 'mobile': '8082245459'}\n",
      "{'_id': ObjectId('5c989ab382769d18dad0a820'), 'id': 4, 'name': 'Aashu Singh', 'mobile': '87846982'}\n",
      "{'_id': ObjectId('5c989ab382769d18dad0a821'), 'id': 5, 'name': 'Vivek Tivari', 'mobile': '8097846982'}\n",
      "{'_id': ObjectId('5c989acc82769d18dad0a823'), 'id': 2, 'name': 'Pallavi Hankare', 'mobile': '8693881508'}\n",
      "{'_id': ObjectId('5c989acc82769d18dad0a824'), 'id': 3, 'name': 'Aashish Gupta', 'mobile': '8082245459'}\n",
      "{'_id': ObjectId('5c989acc82769d18dad0a825'), 'id': 4, 'name': 'Aashu Singh', 'mobile': '87846982'}\n",
      "{'_id': ObjectId('5c989acc82769d18dad0a826'), 'id': 5, 'name': 'Vivek Tivari', 'mobile': '8097846982'}\n"
     ]
    }
   ],
   "source": [
    "query = {'name':'Vivek Tivari'}\n",
    "newValue = {'$set':{'mobile':'Lost!'}}\n",
    "#mycoll.update_one(filter, update)\n",
    "# Docstring: Update a single document matching the filter.\n",
    "mycoll.update_one(query,newValue)\n",
    "            \n",
    "#check the updated values\n",
    "for d in mycoll.find():\n",
    "            print(d)\n",
    "#as expacted update_one finds the first record matching with filter or the query and updates it with new value"
   ]
  },
  {
   "cell_type": "code",
   "execution_count": 46,
   "metadata": {},
   "outputs": [
    {
     "name": "stdout",
     "output_type": "stream",
     "text": [
      "{'_id': ObjectId('5c9894c282769d17df2f20b2'), 'id': 2, 'name': 'Pallavi Hankare', 'mobile': '8693881508'}\n",
      "{'_id': ObjectId('5c9894c282769d17df2f20b3'), 'id': 3, 'name': 'Aashish Gupta', 'mobile': '8082245459'}\n",
      "{'_id': ObjectId('5c9894c282769d17df2f20b4'), 'id': 4, 'name': 'Aashu Singh', 'mobile': '87846982'}\n",
      "{'_id': ObjectId('5c9894c282769d17df2f20b5'), 'id': 5, 'name': 'Vivek Tivari', 'mobile': 'Lost!'}\n",
      "{'_id': ObjectId('5c98984a82769d18dad0a814'), 'id': 2, 'name': 'Pallavi Hankare', 'mobile': '8693881508'}\n",
      "{'_id': ObjectId('5c98984a82769d18dad0a815'), 'id': 3, 'name': 'Aashish Gupta', 'mobile': '8082245459'}\n",
      "{'_id': ObjectId('5c98984a82769d18dad0a816'), 'id': 4, 'name': 'Aashu Singh', 'mobile': '87846982'}\n",
      "{'_id': ObjectId('5c98984a82769d18dad0a817'), 'id': 5, 'name': 'Vivek Tivari', 'mobile': 'Lost!'}\n",
      "{'_id': ObjectId('5c98999b82769d18dad0a819'), 'id': 2, 'name': 'Pallavi Hankare', 'mobile': '8693881508'}\n",
      "{'_id': ObjectId('5c98999b82769d18dad0a81a'), 'id': 3, 'name': 'Aashish Gupta', 'mobile': '8082245459'}\n",
      "{'_id': ObjectId('5c98999b82769d18dad0a81b'), 'id': 4, 'name': 'Aashu Singh', 'mobile': '87846982'}\n",
      "{'_id': ObjectId('5c98999b82769d18dad0a81c'), 'id': 5, 'name': 'Vivek Tivari', 'mobile': 'Lost!'}\n",
      "{'_id': ObjectId('5c989ab382769d18dad0a81e'), 'id': 2, 'name': 'Pallavi Hankare', 'mobile': '8693881508'}\n",
      "{'_id': ObjectId('5c989ab382769d18dad0a81f'), 'id': 3, 'name': 'Aashish Gupta', 'mobile': '8082245459'}\n",
      "{'_id': ObjectId('5c989ab382769d18dad0a820'), 'id': 4, 'name': 'Aashu Singh', 'mobile': '87846982'}\n",
      "{'_id': ObjectId('5c989ab382769d18dad0a821'), 'id': 5, 'name': 'Vivek Tivari', 'mobile': 'Lost!'}\n",
      "{'_id': ObjectId('5c989acc82769d18dad0a823'), 'id': 2, 'name': 'Pallavi Hankare', 'mobile': '8693881508'}\n",
      "{'_id': ObjectId('5c989acc82769d18dad0a824'), 'id': 3, 'name': 'Aashish Gupta', 'mobile': '8082245459'}\n",
      "{'_id': ObjectId('5c989acc82769d18dad0a825'), 'id': 4, 'name': 'Aashu Singh', 'mobile': '87846982'}\n",
      "{'_id': ObjectId('5c989acc82769d18dad0a826'), 'id': 5, 'name': 'Vivek Tivari', 'mobile': 'Lost!'}\n"
     ]
    }
   ],
   "source": [
    "#let us illustrate the update_many methode.\n",
    "query = {'name':'Vivek Tivari'}\n",
    "newValue = {'$set':{'mobile':'Lost!'}}\n",
    "\n",
    "mycoll.update_many(query,newValue)\n",
    "\n",
    "#check the updated values\n",
    "for d in mycoll.find():\n",
    "            print(d)"
   ]
  },
  {
   "cell_type": "markdown",
   "metadata": {},
   "source": [
    "### 5. Last thing to do is, deleting the table and deleting the database.\n",
    "#### To delete any db or tables object in mongodb, simply use the drop() methode."
   ]
  },
  {
   "cell_type": "code",
   "execution_count": 50,
   "metadata": {},
   "outputs": [
    {
     "name": "stdout",
     "output_type": "stream",
     "text": [
      "['dbtable']\n",
      "None\n",
      "list of availble db tables or collections after dropping dbtable []\n"
     ]
    }
   ],
   "source": [
    "#before deleting let us get the list of collections or the tables availble in our demo db\n",
    "print(mydb.list_collection_names())\n",
    "#let us drop the collection 'dbtables' from demo db and verify\n",
    "print(mycoll.drop())\n",
    "print(f'list of availble db tables or collections after dropping dbtable {mydb.list_collection_names()}')"
   ]
  },
  {
   "cell_type": "code",
   "execution_count": 51,
   "metadata": {},
   "outputs": [
    {
     "name": "stdout",
     "output_type": "stream",
     "text": [
      "list of availble dbs before deleting the demo db : ['admin', 'config', 'local']\n",
      "list of availble dbs before deleting the demo db : ['admin', 'config', 'local']\n"
     ]
    }
   ],
   "source": [
    "#let us drop the demo db from mongo db repository\n",
    "print(f'list of availble dbs before deleting the demo db : {myclient.list_database_names()}')\n",
    "myclient.drop_database('demo')\n",
    "print(f'list of availble dbs before deleting the demo db : {myclient.list_database_names()}')"
   ]
  }
 ],
 "metadata": {
  "kernelspec": {
   "display_name": "Python 3",
   "language": "python",
   "name": "python3"
  },
  "language_info": {
   "codemirror_mode": {
    "name": "ipython",
    "version": 3
   },
   "file_extension": ".py",
   "mimetype": "text/x-python",
   "name": "python",
   "nbconvert_exporter": "python",
   "pygments_lexer": "ipython3",
   "version": "3.6.3"
  }
 },
 "nbformat": 4,
 "nbformat_minor": 2
}
